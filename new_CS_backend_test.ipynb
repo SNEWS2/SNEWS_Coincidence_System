{
 "cells": [
  {
   "cell_type": "code",
   "execution_count": null,
   "outputs": [],
   "source": [
    "import numpy as np\n",
    "import pandas as pd\n",
    "from datetime import datetime\n"
   ],
   "metadata": {
    "collapsed": false
   }
  },
  {
   "cell_type": "code",
   "execution_count": 33,
   "outputs": [],
   "source": [
    "signal_1 = {\n",
    "    'name':'A',\n",
    "    'nu_time':'2022-10-04T15:19:06.319905',}\n",
    "signal_2 = {\n",
    "    'name':'B',\n",
    "    'nu_time':'2022-10-04T15:19:08.319905',}\n",
    "signal_3 = {\n",
    "    'name':'C',\n",
    "    'nu_time':'2022-10-04T15:19:15.319905',}\n",
    "signal_4 = {\n",
    "    'name':'D',\n",
    "    'nu_time':'2022-10-04T15:19:18.319905'}\n",
    "signal_5 = {\n",
    "    'name':'E',\n",
    "    'nu_time':'2022-10-04T15:19:26.319905'}\n",
    "signal_6 = {\n",
    "    'name':'F',\n",
    "    'nu_time':'2022-10-04T15:19:30.319905'\n",
    "}\n",
    "signal_7  = {\n",
    "     'name':'C',\n",
    "    'nu_time':'2022-10-04T15:19:19.319905'\n",
    "}"
   ],
   "metadata": {
    "collapsed": false
   }
  },
  {
   "cell_type": "code",
   "execution_count": 19,
   "outputs": [],
   "source": [
    "class CoincidenceDataHanddler:\n",
    "    def __init__(self):\n",
    "        self.df = pd. DataFrame()\n",
    "        self.current_cache_state = {}\n",
    "\n",
    "    def add_to_cahce(self, message):\n",
    "        # consider this the 'main' method this class\n",
    "        self._garbage_checker()\n",
    "        message['nu_time_as_datetime'] = datetime.fromisoformat(message['nu_time'])\n",
    "        self._manage_cache(message)\n",
    "        self.df = self.df.sort_values(by=['sub_group','nu_time_delta'],ignore_index=True)\n",
    "        self.df = self.df.reset_index(drop=True)\n",
    "\n",
    "\n",
    "    def _manage_cache(self,message):\n",
    "        if len(self.df) == 0:\n",
    "            print('Initial Message!!')\n",
    "            message['nu_time_delta'] = 0\n",
    "            message['sub_group'] = 0\n",
    "            temp = pd.DataFrame([message])\n",
    "            self.df = pd.concat([self.df,temp], ignore_index=True)\n",
    "            # self.current_cache_state = {1:1}\n",
    "        else:\n",
    "            self._check_coinc_in_subgroups(message)\n",
    "\n",
    "    def _check_coinc_in_subgroups(self, message):\n",
    "        sub_group_tags = self.df['sub_group'].unique()\n",
    "        coinc = True\n",
    "        for tag in sub_group_tags:\n",
    "            sub_df = self.df.query('sub_group==@tag')\n",
    "            sub_df = sub_df.reset_index(drop=True)\n",
    "            sub_ini_t = sub_df['nu_time_as_datetime'][0]\n",
    "            delta = (message['nu_time_as_datetime'] - sub_ini_t).total_seconds()\n",
    "            if 0 < delta  <= 10.0:\n",
    "                message['sub_group'] = tag\n",
    "                message['nu_time_delta'] = delta\n",
    "                temp = pd.DataFrame([message])\n",
    "                self.df = pd.concat([self.df,temp], ignore_index=True)\n",
    "\n",
    "                coinc = True\n",
    "            else:\n",
    "                coinc = False\n",
    "                continue\n",
    "        if not coinc:\n",
    "            new_ini_t = message['nu_time_as_datetime']\n",
    "            new_sub_tag = len(sub_group_tags)\n",
    "            message_as_df = pd.DataFrame([message])\n",
    "            temp_cache = pd.concat([self.df,message_as_df], ignore_index=True)\n",
    "            temp_cache = temp_cache.drop_duplicates(subset=['name', 'nu_time'])\n",
    "            print(temp_cache)\n",
    "            temp_cache['nu_time_delta'] = (temp_cache['nu_time_as_datetime']- new_ini_t).dt.total_seconds()\n",
    "            # Make two subgroup one for early signal and post\n",
    "            new_sub_group_early = temp_cache.query('-10 <= nu_time_delta <= 0')\n",
    "            new_sub_group_post = temp_cache.query('0 <= nu_time_delta <= 10.0')\n",
    "            new_sub_group_early['sub_group'] = new_sub_tag\n",
    "            new_sub_group_post['sub_group'] = new_sub_tag + 1\n",
    "\n",
    "            new_sub_group_early = new_sub_group_early.sort_values(by='nu_time_as_datetime')\n",
    "            new_sub_group_post = new_sub_group_post.sort_values(by='nu_time_as_datetime')\n",
    "\n",
    "            self._organize_cache(sub_group=new_sub_group_post)\n",
    "            self._organize_cache(sub_group=new_sub_group_early)\n",
    "\n",
    "    def _check_for_redundancies(self,sub_group):\n",
    "        names = sub_group['name']\n",
    "        t = sub_group['nu_time']\n",
    "        if len(sub_group) == 1:\n",
    "            return True\n",
    "        for sub_tag in self.df['sub_group'].unique():\n",
    "            other_sub = self.df.query('sub_group == @sub_tag')\n",
    "            check_t = names.isin(other_sub['name'])\n",
    "            check_name = names.isin(other_sub['nu_time'])\n",
    "\n",
    "            all_t_redundant = check_t.eq(True).all()\n",
    "            all_names_redundant = check_name.eq(True).all()\n",
    "\n",
    "            if all_names_redundant and all_t_redundant:\n",
    "                return True\n",
    "\n",
    "        return False\n",
    "\n",
    "    def _organize_cache(self, sub_group):\n",
    "        if self._check_for_redundancies(sub_group):\n",
    "            return\n",
    "        sub_group = sub_group.reset_index(drop=True)\n",
    "        if sub_group['nu_time_delta'][0] < 0:\n",
    "            sub_group['nu_time_delta'] = sub_group['nu_time_delta'] - sub_group['nu_time_delta'][0]\n",
    "\n",
    "        self.df = pd.concat([self.df,sub_group], ignore_index=True)\n",
    "        self.df = self.df.sort_values(by=['sub_group','nu_time_as_datetime']).reset_index(drop=True)\n",
    "\n",
    "\n",
    "\n",
    "    def _garbage_checker(self, ):\n",
    "        pass\n",
    "\n",
    "    def cache_retraction(self, retraction_message):\n",
    "        retracted_name = retraction_message['name']\n",
    "        self.df = self.df.query('name!=@retracted_name')\n",
    "\n"
   ],
   "metadata": {
    "collapsed": false
   }
  },
  {
   "cell_type": "code",
   "execution_count": 20,
   "outputs": [],
   "source": [
    "coinc = CoincidenceDataHanddler()"
   ],
   "metadata": {
    "collapsed": false
   }
  },
  {
   "cell_type": "code",
   "execution_count": 21,
   "outputs": [
    {
     "name": "stdout",
     "output_type": "stream",
     "text": [
      "Initial Message!!\n"
     ]
    }
   ],
   "source": [
    "coinc.add_to_cahce(signal_1)"
   ],
   "metadata": {
    "collapsed": false
   }
  },
  {
   "cell_type": "code",
   "execution_count": 22,
   "outputs": [
    {
     "data": {
      "text/plain": "  name                     nu_time        nu_time_as_datetime  nu_time_delta  \\\n0    A  2022-10-04T15:19:06.319905 2022-10-04 15:19:06.319905              0   \n\n   sub_group  \n0          0  ",
      "text/html": "<div>\n<style scoped>\n    .dataframe tbody tr th:only-of-type {\n        vertical-align: middle;\n    }\n\n    .dataframe tbody tr th {\n        vertical-align: top;\n    }\n\n    .dataframe thead th {\n        text-align: right;\n    }\n</style>\n<table border=\"1\" class=\"dataframe\">\n  <thead>\n    <tr style=\"text-align: right;\">\n      <th></th>\n      <th>name</th>\n      <th>nu_time</th>\n      <th>nu_time_as_datetime</th>\n      <th>nu_time_delta</th>\n      <th>sub_group</th>\n    </tr>\n  </thead>\n  <tbody>\n    <tr>\n      <th>0</th>\n      <td>A</td>\n      <td>2022-10-04T15:19:06.319905</td>\n      <td>2022-10-04 15:19:06.319905</td>\n      <td>0</td>\n      <td>0</td>\n    </tr>\n  </tbody>\n</table>\n</div>"
     },
     "execution_count": 22,
     "metadata": {},
     "output_type": "execute_result"
    }
   ],
   "source": [
    "coinc.df"
   ],
   "metadata": {
    "collapsed": false
   }
  },
  {
   "cell_type": "code",
   "execution_count": 23,
   "outputs": [
    {
     "data": {
      "text/plain": "  name                     nu_time        nu_time_as_datetime  nu_time_delta  \\\n0    A  2022-10-04T15:19:06.319905 2022-10-04 15:19:06.319905            0.0   \n1    C  2022-10-04T15:19:15.319905 2022-10-04 15:19:15.319905            9.0   \n\n   sub_group  \n0          0  \n1          0  ",
      "text/html": "<div>\n<style scoped>\n    .dataframe tbody tr th:only-of-type {\n        vertical-align: middle;\n    }\n\n    .dataframe tbody tr th {\n        vertical-align: top;\n    }\n\n    .dataframe thead th {\n        text-align: right;\n    }\n</style>\n<table border=\"1\" class=\"dataframe\">\n  <thead>\n    <tr style=\"text-align: right;\">\n      <th></th>\n      <th>name</th>\n      <th>nu_time</th>\n      <th>nu_time_as_datetime</th>\n      <th>nu_time_delta</th>\n      <th>sub_group</th>\n    </tr>\n  </thead>\n  <tbody>\n    <tr>\n      <th>0</th>\n      <td>A</td>\n      <td>2022-10-04T15:19:06.319905</td>\n      <td>2022-10-04 15:19:06.319905</td>\n      <td>0.0</td>\n      <td>0</td>\n    </tr>\n    <tr>\n      <th>1</th>\n      <td>C</td>\n      <td>2022-10-04T15:19:15.319905</td>\n      <td>2022-10-04 15:19:15.319905</td>\n      <td>9.0</td>\n      <td>0</td>\n    </tr>\n  </tbody>\n</table>\n</div>"
     },
     "execution_count": 23,
     "metadata": {},
     "output_type": "execute_result"
    }
   ],
   "source": [
    "coinc.add_to_cahce(signal_3)\n",
    "coinc.df"
   ],
   "metadata": {
    "collapsed": false
   }
  },
  {
   "cell_type": "code",
   "execution_count": 24,
   "outputs": [],
   "source": [
    "coinc.add_to_cahce(signal_2)"
   ],
   "metadata": {
    "collapsed": false
   }
  },
  {
   "cell_type": "code",
   "execution_count": 25,
   "outputs": [
    {
     "data": {
      "text/plain": "  name                     nu_time        nu_time_as_datetime  nu_time_delta  \\\n0    A  2022-10-04T15:19:06.319905 2022-10-04 15:19:06.319905            0.0   \n1    B  2022-10-04T15:19:08.319905 2022-10-04 15:19:08.319905            2.0   \n2    C  2022-10-04T15:19:15.319905 2022-10-04 15:19:15.319905            9.0   \n\n   sub_group  \n0          0  \n1          0  \n2          0  ",
      "text/html": "<div>\n<style scoped>\n    .dataframe tbody tr th:only-of-type {\n        vertical-align: middle;\n    }\n\n    .dataframe tbody tr th {\n        vertical-align: top;\n    }\n\n    .dataframe thead th {\n        text-align: right;\n    }\n</style>\n<table border=\"1\" class=\"dataframe\">\n  <thead>\n    <tr style=\"text-align: right;\">\n      <th></th>\n      <th>name</th>\n      <th>nu_time</th>\n      <th>nu_time_as_datetime</th>\n      <th>nu_time_delta</th>\n      <th>sub_group</th>\n    </tr>\n  </thead>\n  <tbody>\n    <tr>\n      <th>0</th>\n      <td>A</td>\n      <td>2022-10-04T15:19:06.319905</td>\n      <td>2022-10-04 15:19:06.319905</td>\n      <td>0.0</td>\n      <td>0</td>\n    </tr>\n    <tr>\n      <th>1</th>\n      <td>B</td>\n      <td>2022-10-04T15:19:08.319905</td>\n      <td>2022-10-04 15:19:08.319905</td>\n      <td>2.0</td>\n      <td>0</td>\n    </tr>\n    <tr>\n      <th>2</th>\n      <td>C</td>\n      <td>2022-10-04T15:19:15.319905</td>\n      <td>2022-10-04 15:19:15.319905</td>\n      <td>9.0</td>\n      <td>0</td>\n    </tr>\n  </tbody>\n</table>\n</div>"
     },
     "execution_count": 25,
     "metadata": {},
     "output_type": "execute_result"
    }
   ],
   "source": [
    "coinc.df"
   ],
   "metadata": {
    "collapsed": false
   }
  },
  {
   "cell_type": "code",
   "execution_count": 26,
   "outputs": [
    {
     "name": "stdout",
     "output_type": "stream",
     "text": [
      "  name                     nu_time        nu_time_as_datetime  nu_time_delta  \\\n",
      "0    A  2022-10-04T15:19:06.319905 2022-10-04 15:19:06.319905            0.0   \n",
      "1    B  2022-10-04T15:19:08.319905 2022-10-04 15:19:08.319905            2.0   \n",
      "2    C  2022-10-04T15:19:15.319905 2022-10-04 15:19:15.319905            9.0   \n",
      "3    D  2022-10-04T15:19:18.319905 2022-10-04 15:19:18.319905            NaN   \n",
      "\n",
      "   sub_group  \n",
      "0        0.0  \n",
      "1        0.0  \n",
      "2        0.0  \n",
      "3        NaN  \n"
     ]
    },
    {
     "name": "stderr",
     "output_type": "stream",
     "text": [
      "/var/folders/mr/0p5djr157hxdh7bb2gmzywyr0000gn/T/ipykernel_62599/3618793183.py:55: SettingWithCopyWarning: \n",
      "A value is trying to be set on a copy of a slice from a DataFrame.\n",
      "Try using .loc[row_indexer,col_indexer] = value instead\n",
      "\n",
      "See the caveats in the documentation: https://pandas.pydata.org/pandas-docs/stable/user_guide/indexing.html#returning-a-view-versus-a-copy\n",
      "  new_sub_group_early['sub_group'] = new_sub_tag\n",
      "/var/folders/mr/0p5djr157hxdh7bb2gmzywyr0000gn/T/ipykernel_62599/3618793183.py:56: SettingWithCopyWarning: \n",
      "A value is trying to be set on a copy of a slice from a DataFrame.\n",
      "Try using .loc[row_indexer,col_indexer] = value instead\n",
      "\n",
      "See the caveats in the documentation: https://pandas.pydata.org/pandas-docs/stable/user_guide/indexing.html#returning-a-view-versus-a-copy\n",
      "  new_sub_group_post['sub_group'] = new_sub_tag + 1\n"
     ]
    }
   ],
   "source": [
    "coinc.add_to_cahce(signal_4)"
   ],
   "metadata": {
    "collapsed": false
   }
  },
  {
   "cell_type": "code",
   "execution_count": 27,
   "outputs": [
    {
     "data": {
      "text/plain": "  name                     nu_time        nu_time_as_datetime  nu_time_delta  \\\n0    A  2022-10-04T15:19:06.319905 2022-10-04 15:19:06.319905            0.0   \n1    B  2022-10-04T15:19:08.319905 2022-10-04 15:19:08.319905            2.0   \n2    C  2022-10-04T15:19:15.319905 2022-10-04 15:19:15.319905            9.0   \n3    B  2022-10-04T15:19:08.319905 2022-10-04 15:19:08.319905            0.0   \n4    C  2022-10-04T15:19:15.319905 2022-10-04 15:19:15.319905            7.0   \n5    D  2022-10-04T15:19:18.319905 2022-10-04 15:19:18.319905           10.0   \n\n   sub_group  \n0          0  \n1          0  \n2          0  \n3          1  \n4          1  \n5          1  ",
      "text/html": "<div>\n<style scoped>\n    .dataframe tbody tr th:only-of-type {\n        vertical-align: middle;\n    }\n\n    .dataframe tbody tr th {\n        vertical-align: top;\n    }\n\n    .dataframe thead th {\n        text-align: right;\n    }\n</style>\n<table border=\"1\" class=\"dataframe\">\n  <thead>\n    <tr style=\"text-align: right;\">\n      <th></th>\n      <th>name</th>\n      <th>nu_time</th>\n      <th>nu_time_as_datetime</th>\n      <th>nu_time_delta</th>\n      <th>sub_group</th>\n    </tr>\n  </thead>\n  <tbody>\n    <tr>\n      <th>0</th>\n      <td>A</td>\n      <td>2022-10-04T15:19:06.319905</td>\n      <td>2022-10-04 15:19:06.319905</td>\n      <td>0.0</td>\n      <td>0</td>\n    </tr>\n    <tr>\n      <th>1</th>\n      <td>B</td>\n      <td>2022-10-04T15:19:08.319905</td>\n      <td>2022-10-04 15:19:08.319905</td>\n      <td>2.0</td>\n      <td>0</td>\n    </tr>\n    <tr>\n      <th>2</th>\n      <td>C</td>\n      <td>2022-10-04T15:19:15.319905</td>\n      <td>2022-10-04 15:19:15.319905</td>\n      <td>9.0</td>\n      <td>0</td>\n    </tr>\n    <tr>\n      <th>3</th>\n      <td>B</td>\n      <td>2022-10-04T15:19:08.319905</td>\n      <td>2022-10-04 15:19:08.319905</td>\n      <td>0.0</td>\n      <td>1</td>\n    </tr>\n    <tr>\n      <th>4</th>\n      <td>C</td>\n      <td>2022-10-04T15:19:15.319905</td>\n      <td>2022-10-04 15:19:15.319905</td>\n      <td>7.0</td>\n      <td>1</td>\n    </tr>\n    <tr>\n      <th>5</th>\n      <td>D</td>\n      <td>2022-10-04T15:19:18.319905</td>\n      <td>2022-10-04 15:19:18.319905</td>\n      <td>10.0</td>\n      <td>1</td>\n    </tr>\n  </tbody>\n</table>\n</div>"
     },
     "execution_count": 27,
     "metadata": {},
     "output_type": "execute_result"
    }
   ],
   "source": [
    "coinc.df"
   ],
   "metadata": {
    "collapsed": false
   }
  },
  {
   "cell_type": "code",
   "execution_count": 28,
   "outputs": [
    {
     "name": "stdout",
     "output_type": "stream",
     "text": [
      "  name                     nu_time        nu_time_as_datetime  nu_time_delta  \\\n",
      "0    A  2022-10-04T15:19:06.319905 2022-10-04 15:19:06.319905            0.0   \n",
      "1    B  2022-10-04T15:19:08.319905 2022-10-04 15:19:08.319905            2.0   \n",
      "2    C  2022-10-04T15:19:15.319905 2022-10-04 15:19:15.319905            9.0   \n",
      "5    D  2022-10-04T15:19:18.319905 2022-10-04 15:19:18.319905           10.0   \n",
      "6    E  2022-10-04T15:19:26.319905 2022-10-04 15:19:26.319905            NaN   \n",
      "\n",
      "   sub_group  \n",
      "0        0.0  \n",
      "1        0.0  \n",
      "2        0.0  \n",
      "5        1.0  \n",
      "6        NaN  \n"
     ]
    },
    {
     "name": "stderr",
     "output_type": "stream",
     "text": [
      "/var/folders/mr/0p5djr157hxdh7bb2gmzywyr0000gn/T/ipykernel_62599/3618793183.py:55: SettingWithCopyWarning: \n",
      "A value is trying to be set on a copy of a slice from a DataFrame.\n",
      "Try using .loc[row_indexer,col_indexer] = value instead\n",
      "\n",
      "See the caveats in the documentation: https://pandas.pydata.org/pandas-docs/stable/user_guide/indexing.html#returning-a-view-versus-a-copy\n",
      "  new_sub_group_early['sub_group'] = new_sub_tag\n",
      "/var/folders/mr/0p5djr157hxdh7bb2gmzywyr0000gn/T/ipykernel_62599/3618793183.py:56: SettingWithCopyWarning: \n",
      "A value is trying to be set on a copy of a slice from a DataFrame.\n",
      "Try using .loc[row_indexer,col_indexer] = value instead\n",
      "\n",
      "See the caveats in the documentation: https://pandas.pydata.org/pandas-docs/stable/user_guide/indexing.html#returning-a-view-versus-a-copy\n",
      "  new_sub_group_post['sub_group'] = new_sub_tag + 1\n"
     ]
    }
   ],
   "source": [
    "coinc.add_to_cahce(signal_5)"
   ],
   "metadata": {
    "collapsed": false
   }
  },
  {
   "cell_type": "code",
   "execution_count": 29,
   "outputs": [
    {
     "data": {
      "text/plain": "  name                     nu_time        nu_time_as_datetime  nu_time_delta  \\\n0    A  2022-10-04T15:19:06.319905 2022-10-04 15:19:06.319905            0.0   \n1    B  2022-10-04T15:19:08.319905 2022-10-04 15:19:08.319905            2.0   \n2    C  2022-10-04T15:19:15.319905 2022-10-04 15:19:15.319905            9.0   \n3    B  2022-10-04T15:19:08.319905 2022-10-04 15:19:08.319905            0.0   \n4    C  2022-10-04T15:19:15.319905 2022-10-04 15:19:15.319905            7.0   \n5    D  2022-10-04T15:19:18.319905 2022-10-04 15:19:18.319905           10.0   \n6    D  2022-10-04T15:19:18.319905 2022-10-04 15:19:18.319905            0.0   \n7    E  2022-10-04T15:19:26.319905 2022-10-04 15:19:26.319905            8.0   \n\n   sub_group  \n0          0  \n1          0  \n2          0  \n3          1  \n4          1  \n5          1  \n6          2  \n7          2  ",
      "text/html": "<div>\n<style scoped>\n    .dataframe tbody tr th:only-of-type {\n        vertical-align: middle;\n    }\n\n    .dataframe tbody tr th {\n        vertical-align: top;\n    }\n\n    .dataframe thead th {\n        text-align: right;\n    }\n</style>\n<table border=\"1\" class=\"dataframe\">\n  <thead>\n    <tr style=\"text-align: right;\">\n      <th></th>\n      <th>name</th>\n      <th>nu_time</th>\n      <th>nu_time_as_datetime</th>\n      <th>nu_time_delta</th>\n      <th>sub_group</th>\n    </tr>\n  </thead>\n  <tbody>\n    <tr>\n      <th>0</th>\n      <td>A</td>\n      <td>2022-10-04T15:19:06.319905</td>\n      <td>2022-10-04 15:19:06.319905</td>\n      <td>0.0</td>\n      <td>0</td>\n    </tr>\n    <tr>\n      <th>1</th>\n      <td>B</td>\n      <td>2022-10-04T15:19:08.319905</td>\n      <td>2022-10-04 15:19:08.319905</td>\n      <td>2.0</td>\n      <td>0</td>\n    </tr>\n    <tr>\n      <th>2</th>\n      <td>C</td>\n      <td>2022-10-04T15:19:15.319905</td>\n      <td>2022-10-04 15:19:15.319905</td>\n      <td>9.0</td>\n      <td>0</td>\n    </tr>\n    <tr>\n      <th>3</th>\n      <td>B</td>\n      <td>2022-10-04T15:19:08.319905</td>\n      <td>2022-10-04 15:19:08.319905</td>\n      <td>0.0</td>\n      <td>1</td>\n    </tr>\n    <tr>\n      <th>4</th>\n      <td>C</td>\n      <td>2022-10-04T15:19:15.319905</td>\n      <td>2022-10-04 15:19:15.319905</td>\n      <td>7.0</td>\n      <td>1</td>\n    </tr>\n    <tr>\n      <th>5</th>\n      <td>D</td>\n      <td>2022-10-04T15:19:18.319905</td>\n      <td>2022-10-04 15:19:18.319905</td>\n      <td>10.0</td>\n      <td>1</td>\n    </tr>\n    <tr>\n      <th>6</th>\n      <td>D</td>\n      <td>2022-10-04T15:19:18.319905</td>\n      <td>2022-10-04 15:19:18.319905</td>\n      <td>0.0</td>\n      <td>2</td>\n    </tr>\n    <tr>\n      <th>7</th>\n      <td>E</td>\n      <td>2022-10-04T15:19:26.319905</td>\n      <td>2022-10-04 15:19:26.319905</td>\n      <td>8.0</td>\n      <td>2</td>\n    </tr>\n  </tbody>\n</table>\n</div>"
     },
     "execution_count": 29,
     "metadata": {},
     "output_type": "execute_result"
    }
   ],
   "source": [
    "coinc.df"
   ],
   "metadata": {
    "collapsed": false
   }
  },
  {
   "cell_type": "code",
   "execution_count": 30,
   "outputs": [
    {
     "name": "stdout",
     "output_type": "stream",
     "text": [
      "  name                     nu_time        nu_time_as_datetime  nu_time_delta  \\\n",
      "0    A  2022-10-04T15:19:06.319905 2022-10-04 15:19:06.319905            0.0   \n",
      "1    B  2022-10-04T15:19:08.319905 2022-10-04 15:19:08.319905            2.0   \n",
      "2    C  2022-10-04T15:19:15.319905 2022-10-04 15:19:15.319905            9.0   \n",
      "5    D  2022-10-04T15:19:18.319905 2022-10-04 15:19:18.319905           10.0   \n",
      "7    E  2022-10-04T15:19:26.319905 2022-10-04 15:19:26.319905            8.0   \n",
      "8    F  2022-10-04T15:19:30.319905 2022-10-04 15:19:30.319905            NaN   \n",
      "\n",
      "   sub_group  \n",
      "0        0.0  \n",
      "1        0.0  \n",
      "2        0.0  \n",
      "5        1.0  \n",
      "7        2.0  \n",
      "8        NaN  \n"
     ]
    },
    {
     "name": "stderr",
     "output_type": "stream",
     "text": [
      "/var/folders/mr/0p5djr157hxdh7bb2gmzywyr0000gn/T/ipykernel_62599/3618793183.py:55: SettingWithCopyWarning: \n",
      "A value is trying to be set on a copy of a slice from a DataFrame.\n",
      "Try using .loc[row_indexer,col_indexer] = value instead\n",
      "\n",
      "See the caveats in the documentation: https://pandas.pydata.org/pandas-docs/stable/user_guide/indexing.html#returning-a-view-versus-a-copy\n",
      "  new_sub_group_early['sub_group'] = new_sub_tag\n",
      "/var/folders/mr/0p5djr157hxdh7bb2gmzywyr0000gn/T/ipykernel_62599/3618793183.py:56: SettingWithCopyWarning: \n",
      "A value is trying to be set on a copy of a slice from a DataFrame.\n",
      "Try using .loc[row_indexer,col_indexer] = value instead\n",
      "\n",
      "See the caveats in the documentation: https://pandas.pydata.org/pandas-docs/stable/user_guide/indexing.html#returning-a-view-versus-a-copy\n",
      "  new_sub_group_post['sub_group'] = new_sub_tag + 1\n"
     ]
    }
   ],
   "source": [
    "coinc.add_to_cahce(signal_6)"
   ],
   "metadata": {
    "collapsed": false
   }
  },
  {
   "cell_type": "code",
   "execution_count": 31,
   "outputs": [
    {
     "data": {
      "text/plain": "  name                     nu_time        nu_time_as_datetime  nu_time_delta  \\\n0    A  2022-10-04T15:19:06.319905 2022-10-04 15:19:06.319905            0.0   \n1    B  2022-10-04T15:19:08.319905 2022-10-04 15:19:08.319905            2.0   \n2    C  2022-10-04T15:19:15.319905 2022-10-04 15:19:15.319905            9.0   \n3    B  2022-10-04T15:19:08.319905 2022-10-04 15:19:08.319905            0.0   \n4    C  2022-10-04T15:19:15.319905 2022-10-04 15:19:15.319905            7.0   \n5    D  2022-10-04T15:19:18.319905 2022-10-04 15:19:18.319905           10.0   \n6    D  2022-10-04T15:19:18.319905 2022-10-04 15:19:18.319905            0.0   \n7    E  2022-10-04T15:19:26.319905 2022-10-04 15:19:26.319905            8.0   \n8    E  2022-10-04T15:19:26.319905 2022-10-04 15:19:26.319905            0.0   \n9    F  2022-10-04T15:19:30.319905 2022-10-04 15:19:30.319905            4.0   \n\n   sub_group  \n0          0  \n1          0  \n2          0  \n3          1  \n4          1  \n5          1  \n6          2  \n7          2  \n8          3  \n9          3  ",
      "text/html": "<div>\n<style scoped>\n    .dataframe tbody tr th:only-of-type {\n        vertical-align: middle;\n    }\n\n    .dataframe tbody tr th {\n        vertical-align: top;\n    }\n\n    .dataframe thead th {\n        text-align: right;\n    }\n</style>\n<table border=\"1\" class=\"dataframe\">\n  <thead>\n    <tr style=\"text-align: right;\">\n      <th></th>\n      <th>name</th>\n      <th>nu_time</th>\n      <th>nu_time_as_datetime</th>\n      <th>nu_time_delta</th>\n      <th>sub_group</th>\n    </tr>\n  </thead>\n  <tbody>\n    <tr>\n      <th>0</th>\n      <td>A</td>\n      <td>2022-10-04T15:19:06.319905</td>\n      <td>2022-10-04 15:19:06.319905</td>\n      <td>0.0</td>\n      <td>0</td>\n    </tr>\n    <tr>\n      <th>1</th>\n      <td>B</td>\n      <td>2022-10-04T15:19:08.319905</td>\n      <td>2022-10-04 15:19:08.319905</td>\n      <td>2.0</td>\n      <td>0</td>\n    </tr>\n    <tr>\n      <th>2</th>\n      <td>C</td>\n      <td>2022-10-04T15:19:15.319905</td>\n      <td>2022-10-04 15:19:15.319905</td>\n      <td>9.0</td>\n      <td>0</td>\n    </tr>\n    <tr>\n      <th>3</th>\n      <td>B</td>\n      <td>2022-10-04T15:19:08.319905</td>\n      <td>2022-10-04 15:19:08.319905</td>\n      <td>0.0</td>\n      <td>1</td>\n    </tr>\n    <tr>\n      <th>4</th>\n      <td>C</td>\n      <td>2022-10-04T15:19:15.319905</td>\n      <td>2022-10-04 15:19:15.319905</td>\n      <td>7.0</td>\n      <td>1</td>\n    </tr>\n    <tr>\n      <th>5</th>\n      <td>D</td>\n      <td>2022-10-04T15:19:18.319905</td>\n      <td>2022-10-04 15:19:18.319905</td>\n      <td>10.0</td>\n      <td>1</td>\n    </tr>\n    <tr>\n      <th>6</th>\n      <td>D</td>\n      <td>2022-10-04T15:19:18.319905</td>\n      <td>2022-10-04 15:19:18.319905</td>\n      <td>0.0</td>\n      <td>2</td>\n    </tr>\n    <tr>\n      <th>7</th>\n      <td>E</td>\n      <td>2022-10-04T15:19:26.319905</td>\n      <td>2022-10-04 15:19:26.319905</td>\n      <td>8.0</td>\n      <td>2</td>\n    </tr>\n    <tr>\n      <th>8</th>\n      <td>E</td>\n      <td>2022-10-04T15:19:26.319905</td>\n      <td>2022-10-04 15:19:26.319905</td>\n      <td>0.0</td>\n      <td>3</td>\n    </tr>\n    <tr>\n      <th>9</th>\n      <td>F</td>\n      <td>2022-10-04T15:19:30.319905</td>\n      <td>2022-10-04 15:19:30.319905</td>\n      <td>4.0</td>\n      <td>3</td>\n    </tr>\n  </tbody>\n</table>\n</div>"
     },
     "execution_count": 31,
     "metadata": {},
     "output_type": "execute_result"
    }
   ],
   "source": [
    "coinc.df"
   ],
   "metadata": {
    "collapsed": false
   }
  },
  {
   "cell_type": "code",
   "execution_count": 34,
   "outputs": [
    {
     "name": "stdout",
     "output_type": "stream",
     "text": [
      "   name                     nu_time        nu_time_as_datetime  nu_time_delta  \\\n",
      "0     A  2022-10-04T15:19:06.319905 2022-10-04 15:19:06.319905            0.0   \n",
      "1     B  2022-10-04T15:19:08.319905 2022-10-04 15:19:08.319905            2.0   \n",
      "2     C  2022-10-04T15:19:15.319905 2022-10-04 15:19:15.319905            9.0   \n",
      "5     D  2022-10-04T15:19:18.319905 2022-10-04 15:19:18.319905           10.0   \n",
      "7     E  2022-10-04T15:19:26.319905 2022-10-04 15:19:26.319905            8.0   \n",
      "9     F  2022-10-04T15:19:30.319905 2022-10-04 15:19:30.319905            4.0   \n",
      "10    C  2022-10-04T15:19:19.319905 2022-10-04 15:19:19.319905            1.0   \n",
      "\n",
      "    sub_group  \n",
      "0           0  \n",
      "1           0  \n",
      "2           0  \n",
      "5           1  \n",
      "7           2  \n",
      "9           3  \n",
      "10          2  \n"
     ]
    },
    {
     "name": "stderr",
     "output_type": "stream",
     "text": [
      "/var/folders/mr/0p5djr157hxdh7bb2gmzywyr0000gn/T/ipykernel_62599/3618793183.py:55: SettingWithCopyWarning: \n",
      "A value is trying to be set on a copy of a slice from a DataFrame.\n",
      "Try using .loc[row_indexer,col_indexer] = value instead\n",
      "\n",
      "See the caveats in the documentation: https://pandas.pydata.org/pandas-docs/stable/user_guide/indexing.html#returning-a-view-versus-a-copy\n",
      "  new_sub_group_early['sub_group'] = new_sub_tag\n",
      "/var/folders/mr/0p5djr157hxdh7bb2gmzywyr0000gn/T/ipykernel_62599/3618793183.py:56: SettingWithCopyWarning: \n",
      "A value is trying to be set on a copy of a slice from a DataFrame.\n",
      "Try using .loc[row_indexer,col_indexer] = value instead\n",
      "\n",
      "See the caveats in the documentation: https://pandas.pydata.org/pandas-docs/stable/user_guide/indexing.html#returning-a-view-versus-a-copy\n",
      "  new_sub_group_post['sub_group'] = new_sub_tag + 1\n"
     ]
    }
   ],
   "source": [
    "coinc.add_to_cahce(signal_7)"
   ],
   "metadata": {
    "collapsed": false
   }
  },
  {
   "cell_type": "code",
   "execution_count": 35,
   "outputs": [
    {
     "data": {
      "text/plain": "   name                     nu_time        nu_time_as_datetime  nu_time_delta  \\\n0     A  2022-10-04T15:19:06.319905 2022-10-04 15:19:06.319905            0.0   \n1     B  2022-10-04T15:19:08.319905 2022-10-04 15:19:08.319905            2.0   \n2     C  2022-10-04T15:19:15.319905 2022-10-04 15:19:15.319905            9.0   \n3     B  2022-10-04T15:19:08.319905 2022-10-04 15:19:08.319905            0.0   \n4     C  2022-10-04T15:19:15.319905 2022-10-04 15:19:15.319905            7.0   \n5     D  2022-10-04T15:19:18.319905 2022-10-04 15:19:18.319905           10.0   \n6     D  2022-10-04T15:19:18.319905 2022-10-04 15:19:18.319905            0.0   \n7     C  2022-10-04T15:19:19.319905 2022-10-04 15:19:19.319905            1.0   \n8     E  2022-10-04T15:19:26.319905 2022-10-04 15:19:26.319905            8.0   \n9     E  2022-10-04T15:19:26.319905 2022-10-04 15:19:26.319905            0.0   \n10    F  2022-10-04T15:19:30.319905 2022-10-04 15:19:30.319905            4.0   \n11    C  2022-10-04T15:19:15.319905 2022-10-04 15:19:15.319905            0.0   \n12    D  2022-10-04T15:19:18.319905 2022-10-04 15:19:18.319905            3.0   \n13    C  2022-10-04T15:19:19.319905 2022-10-04 15:19:19.319905            4.0   \n14    C  2022-10-04T15:19:19.319905 2022-10-04 15:19:19.319905            0.0   \n15    E  2022-10-04T15:19:26.319905 2022-10-04 15:19:26.319905            7.0   \n\n    sub_group  \n0           0  \n1           0  \n2           0  \n3           1  \n4           1  \n5           1  \n6           2  \n7           2  \n8           2  \n9           3  \n10          3  \n11          4  \n12          4  \n13          4  \n14          5  \n15          5  ",
      "text/html": "<div>\n<style scoped>\n    .dataframe tbody tr th:only-of-type {\n        vertical-align: middle;\n    }\n\n    .dataframe tbody tr th {\n        vertical-align: top;\n    }\n\n    .dataframe thead th {\n        text-align: right;\n    }\n</style>\n<table border=\"1\" class=\"dataframe\">\n  <thead>\n    <tr style=\"text-align: right;\">\n      <th></th>\n      <th>name</th>\n      <th>nu_time</th>\n      <th>nu_time_as_datetime</th>\n      <th>nu_time_delta</th>\n      <th>sub_group</th>\n    </tr>\n  </thead>\n  <tbody>\n    <tr>\n      <th>0</th>\n      <td>A</td>\n      <td>2022-10-04T15:19:06.319905</td>\n      <td>2022-10-04 15:19:06.319905</td>\n      <td>0.0</td>\n      <td>0</td>\n    </tr>\n    <tr>\n      <th>1</th>\n      <td>B</td>\n      <td>2022-10-04T15:19:08.319905</td>\n      <td>2022-10-04 15:19:08.319905</td>\n      <td>2.0</td>\n      <td>0</td>\n    </tr>\n    <tr>\n      <th>2</th>\n      <td>C</td>\n      <td>2022-10-04T15:19:15.319905</td>\n      <td>2022-10-04 15:19:15.319905</td>\n      <td>9.0</td>\n      <td>0</td>\n    </tr>\n    <tr>\n      <th>3</th>\n      <td>B</td>\n      <td>2022-10-04T15:19:08.319905</td>\n      <td>2022-10-04 15:19:08.319905</td>\n      <td>0.0</td>\n      <td>1</td>\n    </tr>\n    <tr>\n      <th>4</th>\n      <td>C</td>\n      <td>2022-10-04T15:19:15.319905</td>\n      <td>2022-10-04 15:19:15.319905</td>\n      <td>7.0</td>\n      <td>1</td>\n    </tr>\n    <tr>\n      <th>5</th>\n      <td>D</td>\n      <td>2022-10-04T15:19:18.319905</td>\n      <td>2022-10-04 15:19:18.319905</td>\n      <td>10.0</td>\n      <td>1</td>\n    </tr>\n    <tr>\n      <th>6</th>\n      <td>D</td>\n      <td>2022-10-04T15:19:18.319905</td>\n      <td>2022-10-04 15:19:18.319905</td>\n      <td>0.0</td>\n      <td>2</td>\n    </tr>\n    <tr>\n      <th>7</th>\n      <td>C</td>\n      <td>2022-10-04T15:19:19.319905</td>\n      <td>2022-10-04 15:19:19.319905</td>\n      <td>1.0</td>\n      <td>2</td>\n    </tr>\n    <tr>\n      <th>8</th>\n      <td>E</td>\n      <td>2022-10-04T15:19:26.319905</td>\n      <td>2022-10-04 15:19:26.319905</td>\n      <td>8.0</td>\n      <td>2</td>\n    </tr>\n    <tr>\n      <th>9</th>\n      <td>E</td>\n      <td>2022-10-04T15:19:26.319905</td>\n      <td>2022-10-04 15:19:26.319905</td>\n      <td>0.0</td>\n      <td>3</td>\n    </tr>\n    <tr>\n      <th>10</th>\n      <td>F</td>\n      <td>2022-10-04T15:19:30.319905</td>\n      <td>2022-10-04 15:19:30.319905</td>\n      <td>4.0</td>\n      <td>3</td>\n    </tr>\n    <tr>\n      <th>11</th>\n      <td>C</td>\n      <td>2022-10-04T15:19:15.319905</td>\n      <td>2022-10-04 15:19:15.319905</td>\n      <td>0.0</td>\n      <td>4</td>\n    </tr>\n    <tr>\n      <th>12</th>\n      <td>D</td>\n      <td>2022-10-04T15:19:18.319905</td>\n      <td>2022-10-04 15:19:18.319905</td>\n      <td>3.0</td>\n      <td>4</td>\n    </tr>\n    <tr>\n      <th>13</th>\n      <td>C</td>\n      <td>2022-10-04T15:19:19.319905</td>\n      <td>2022-10-04 15:19:19.319905</td>\n      <td>4.0</td>\n      <td>4</td>\n    </tr>\n    <tr>\n      <th>14</th>\n      <td>C</td>\n      <td>2022-10-04T15:19:19.319905</td>\n      <td>2022-10-04 15:19:19.319905</td>\n      <td>0.0</td>\n      <td>5</td>\n    </tr>\n    <tr>\n      <th>15</th>\n      <td>E</td>\n      <td>2022-10-04T15:19:26.319905</td>\n      <td>2022-10-04 15:19:26.319905</td>\n      <td>7.0</td>\n      <td>5</td>\n    </tr>\n  </tbody>\n</table>\n</div>"
     },
     "execution_count": 35,
     "metadata": {},
     "output_type": "execute_result"
    }
   ],
   "source": [
    "coinc.df"
   ],
   "metadata": {
    "collapsed": false
   }
  }
 ],
 "metadata": {
  "kernelspec": {
   "display_name": "Python 3",
   "language": "python",
   "name": "python3"
  },
  "language_info": {
   "codemirror_mode": {
    "name": "ipython",
    "version": 2
   },
   "file_extension": ".py",
   "mimetype": "text/x-python",
   "name": "python",
   "nbconvert_exporter": "python",
   "pygments_lexer": "ipython2",
   "version": "2.7.6"
  }
 },
 "nbformat": 4,
 "nbformat_minor": 0
}
