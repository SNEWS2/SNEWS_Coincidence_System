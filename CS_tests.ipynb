{
 "cells": [
  {
   "cell_type": "markdown",
   "id": "49e8fb09",
   "metadata": {},
   "source": [
    "# SNEWS Coincidence System Tests"
   ]
  },
  {
   "cell_type": "markdown",
   "id": "bf2ee10c",
   "metadata": {},
   "source": [
    "Last edited: 02.06.2023"
   ]
  },
  {
   "cell_type": "markdown",
   "id": "b5295436",
   "metadata": {},
   "source": [
    "In this notebook, we collected some inputs to test features at the coincidence system.<br>\n",
    "To test, one needs to run the coincidence on a local machine and trigger the commands here. Which should be executed at the coincidence system and the logs can be displayed."
   ]
  },
  {
   "cell_type": "markdown",
   "id": "8d196402",
   "metadata": {},
   "source": [
    "After starting the coincidence system (and, if desired, the feedback script).\n",
    "```bash\n",
    "user$: snews_cs run-coincidence --firedrill\n",
    "user$: snews_cs run-feedbacks --firedrill\n",
    "```"
   ]
  },
  {
   "cell_type": "markdown",
   "id": "9eeb6588",
   "metadata": {},
   "source": [
    "_Note_:<br>\n",
    "If you haven't initiated a mongo instance, you also need to start that before running the coincidence system, as the messages are fed to mongo. <br>\n",
    "```bash\n",
    "user$: sudo service mongodb start\n",
    "```"
   ]
  },
  {
   "cell_type": "code",
   "execution_count": 12,
   "id": "1b7442b9",
   "metadata": {},
   "outputs": [],
   "source": [
    "import numpy as np\n",
    "import pandas as pd\n",
    "from datetime import datetime\n",
    "from snews_pt.snews_pub import SNEWSTiersPublisher\n",
    "from snews_pt.remote_commands import reset_cache\n",
    "from snews_cs.core.logging import log_file"
   ]
  },
  {
   "cell_type": "code",
   "execution_count": 2,
   "id": "161d30ae",
   "metadata": {},
   "outputs": [
    {
     "data": {
      "text/plain": [
       "'/mnt/c/Users/bj7780/Desktop/Kara/GitHub/SNEWS/SNEWS_Coincidence_System/logs/2023-06-02.log'"
      ]
     },
     "execution_count": 2,
     "metadata": {},
     "output_type": "execute_result"
    }
   ],
   "source": [
    "# the logs of \"today\" will be saved here\n",
    "log_file"
   ]
  },
  {
   "cell_type": "markdown",
   "id": "8dd66b6b",
   "metadata": {},
   "source": [
    "Once the `snews_cs run-coincidence` is executed, the log file is created"
   ]
  },
  {
   "cell_type": "code",
   "execution_count": 4,
   "id": "83742c08",
   "metadata": {
    "scrolled": true
   },
   "outputs": [],
   "source": [
    "# !cat $log_file"
   ]
  },
  {
   "cell_type": "markdown",
   "id": "077c5998",
   "metadata": {},
   "source": [
    "### Test coincidence \n",
    "Send two messages from two detectors with short time interval so it triggers an alert."
   ]
  },
  {
   "cell_type": "code",
   "execution_count": 13,
   "id": "86217a3f",
   "metadata": {},
   "outputs": [
    {
     "name": "stdout",
     "output_type": "stream",
     "text": [
      "\u001b[34m\u001b[1m> Requesting to Reset the cache. If you have rights, cache will be reset\u001b[0m\n"
     ]
    }
   ],
   "source": [
    "reset_cache()"
   ]
  },
  {
   "cell_type": "code",
   "execution_count": 14,
   "id": "75c40573",
   "metadata": {},
   "outputs": [
    {
     "name": "stdout",
     "output_type": "stream",
     "text": [
      "Message Generated for CoincidenceTier\n",
      "Message Generated for CoincidenceTier\n"
     ]
    }
   ],
   "source": [
    "time1 = \"2023-06-14T12:45:40.100000\"\n",
    "time2 = \"2023-06-14T12:45:41.100000\"\n",
    "\n",
    "msg1 = SNEWSTiersPublisher(detector_name=\"XENONnT\",\n",
    "                           neutrino_time=time1,\n",
    "                           is_test=True, \n",
    "                           firedrill_mode=True)\n",
    "\n",
    "msg2 = SNEWSTiersPublisher(detector_name=\"DS-20K\",\n",
    "                           neutrino_time=time2,\n",
    "                           is_test=True,\n",
    "                           firedrill_mode=True)"
   ]
  },
  {
   "cell_type": "code",
   "execution_count": 15,
   "id": "55621791",
   "metadata": {},
   "outputs": [
    {
     "name": "stdout",
     "output_type": "stream",
     "text": [
      "\u001b[94m----------------------------------------------------------------\u001b[0m\n",
      "\u001b[91mSending message to CoincidenceTier on kafka://kafka.scimma.org/snews.experiments-firedrill\u001b[0m\n",
      "_id                :19_CoincidenceTier_2023-06-02T15:51:17.832545\n",
      "detector_name      :XENONnT\n",
      "machine_time       :2023-06-02T15:51:17.832545\n",
      "neutrino_time      :2023-06-14T12:45:40.100000\n",
      "p_val              :None\n",
      "meta               :\n",
      "\tis_test            :True\n",
      "schema_version     :1.3.0\n",
      "sent_time          :2023-06-02T15:51:19.111682\n",
      "\u001b[94m----------------------------------------------------------------\u001b[0m\n",
      "\u001b[91mSending message to CoincidenceTier on kafka://kafka.scimma.org/snews.experiments-firedrill\u001b[0m\n",
      "_id                :18_CoincidenceTier_2023-06-02T15:51:17.860206\n",
      "detector_name      :DS-20K\n",
      "machine_time       :2023-06-02T15:51:17.860206\n",
      "neutrino_time      :2023-06-14T12:45:41.100000\n",
      "p_val              :None\n",
      "meta               :\n",
      "\tis_test            :True\n",
      "schema_version     :1.3.0\n",
      "sent_time          :2023-06-02T15:51:22.893857\n"
     ]
    }
   ],
   "source": [
    "for msg in [msg1, msg2]:\n",
    "    msg.send_to_snews()"
   ]
  },
  {
   "cell_type": "code",
   "execution_count": 9,
   "id": "ad67ca27",
   "metadata": {},
   "outputs": [],
   "source": [
    "# !cat $log_file"
   ]
  },
  {
   "cell_type": "markdown",
   "id": "d2ada430",
   "metadata": {},
   "source": [
    "### Try Update"
   ]
  },
  {
   "cell_type": "code",
   "execution_count": 16,
   "id": "365c9355",
   "metadata": {},
   "outputs": [
    {
     "name": "stdout",
     "output_type": "stream",
     "text": [
      "Message Generated for CoincidenceTier\n",
      "\u001b[94m----------------------------------------------------------------\u001b[0m\n",
      "\u001b[91mSending message to CoincidenceTier on kafka://kafka.scimma.org/snews.experiments-firedrill\u001b[0m\n",
      "_id                :18_CoincidenceTier_2023-06-02T15:51:58.660103\n",
      "detector_name      :DS-20K\n",
      "machine_time       :2023-06-02T15:51:58.660103\n",
      "neutrino_time      :2023-06-14T12:45:40.100000\n",
      "p_val              :None\n",
      "meta               :\n",
      "\tis_test            :True\n",
      "schema_version     :1.3.0\n",
      "sent_time          :2023-06-02T15:51:58.683686\n"
     ]
    }
   ],
   "source": [
    "time3 = \"2023-06-14T12:45:40.100000\"\n",
    "msg3 = SNEWSTiersPublisher(detector_name=\"DS-20K\",\n",
    "                           neutrino_time=time3,\n",
    "                           is_test=True,\n",
    "                           firedrill_mode=True).send_to_snews()"
   ]
  },
  {
   "cell_type": "markdown",
   "id": "962b2c4a",
   "metadata": {},
   "source": [
    "### Try retraction"
   ]
  },
  {
   "cell_type": "code",
   "execution_count": 17,
   "id": "d61d38f0",
   "metadata": {},
   "outputs": [
    {
     "name": "stdout",
     "output_type": "stream",
     "text": [
      "Message Generated for Retraction\n",
      "\u001b[94m----------------------------------------------------------------\u001b[0m\n",
      "\u001b[91mSending message to Retraction on kafka://kafka.scimma.org/snews.experiments-firedrill\u001b[0m\n",
      "\u001b[35mIT'S OKAY, WE ALL MAKE MISTAKES\u001b[0m\n",
      "_id                :18_Retraction_2023-06-02T15:52:19.336236\n",
      "detector_name      :DS-20K\n",
      "machine_time       :2023-06-02T15:52:19.336236\n",
      "retract_latest     :1\n",
      "retraction_reason  :None\n",
      "meta               :\n",
      "\tis_test            :False\n",
      "schema_version     :1.3.0\n",
      "sent_time          :2023-06-02T15:52:19.359513\n",
      "is_test            :True\n"
     ]
    }
   ],
   "source": [
    "msg3 = SNEWSTiersPublisher(detector_name=\"DS-20K\",\n",
    "                           retract_latest=1,\n",
    "                           is_test=False,\n",
    "                           firedrill_mode=True)\n",
    "msg3.messages[0]['is_test'] = True\n",
    "msg3.send_to_snews()"
   ]
  },
  {
   "cell_type": "code",
   "execution_count": 11,
   "id": "d2ad7bfe",
   "metadata": {},
   "outputs": [],
   "source": [
    "# !cat $log_file"
   ]
  },
  {
   "cell_type": "code",
   "execution_count": null,
   "id": "89def46c",
   "metadata": {},
   "outputs": [],
   "source": []
  }
 ],
 "metadata": {
  "kernelspec": {
   "display_name": "snews",
   "language": "python",
   "name": "snews"
  },
  "language_info": {
   "codemirror_mode": {
    "name": "ipython",
    "version": 3
   },
   "file_extension": ".py",
   "mimetype": "text/x-python",
   "name": "python",
   "nbconvert_exporter": "python",
   "pygments_lexer": "ipython3",
   "version": "3.9.7"
  }
 },
 "nbformat": 4,
 "nbformat_minor": 5
}
