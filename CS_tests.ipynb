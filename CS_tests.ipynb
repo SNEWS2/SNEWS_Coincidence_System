{
 "cells": [
  {
   "cell_type": "markdown",
   "id": "49e8fb09",
   "metadata": {},
   "source": [
    "# SNEWS Coincidence System Tests"
   ]
  },
  {
   "cell_type": "markdown",
   "id": "b5295436",
   "metadata": {},
   "source": [
    "In this notebook, we collected some inputs to test features at the coincidence system.<br>\n",
    "To test, one needs to run the coincidence on a local machine and trigger the commands here. Which should be executed at the coincidence system and the logs can be displayed."
   ]
  },
  {
   "cell_type": "markdown",
   "id": "8d196402",
   "metadata": {},
   "source": [
    "After starting the coincidence system (and, if desired, the feedback script).\n",
    "```bash\n",
    "user$: snews_cs run-coincidence --firedrill\n",
    "user$: snews_cs run-feedbacks --firedrill\n",
    "```"
   ]
  },
  {
   "cell_type": "markdown",
   "id": "9eeb6588",
   "metadata": {},
   "source": [
    "_Note_:<br>\n",
    "If you haven't initiated a mongo instance, you also need to start that before running the coincidence system, as the messages are fed to mongo. <br>\n",
    "```bash\n",
    "user$: sudo service mongodb start\n",
    "```"
   ]
  },
  {
   "cell_type": "code",
   "execution_count": 1,
   "id": "1b7442b9",
   "metadata": {},
   "outputs": [
    {
     "name": "stderr",
     "output_type": "stream",
     "text": [
      "/mnt/c/Users/bj7780/Desktop/Kara/GitHub/SNEWS/SNEWS_Publishing_Tools/snews_pt/__init__.py:23: UserWarning: \u001b[31mYou are using default detector name \"TEST\"\n",
      "Please change this by snews_pt.snews_pt_utils.set_name()\u001b[0m\n",
      "  warnings.warn(warning_text, UserWarning)\n"
     ]
    }
   ],
   "source": [
    "import numpy as np\n",
    "import pandas as pd\n",
    "from datetime import datetime\n",
    "from snews_pt.snews_pub import SNEWSTiersPublisher\n",
    "from snews_cs.core.logging import log_file"
   ]
  },
  {
   "cell_type": "code",
   "execution_count": 2,
   "id": "161d30ae",
   "metadata": {},
   "outputs": [
    {
     "data": {
      "text/plain": [
       "'/mnt/c/Users/bj7780/Desktop/Kara/GitHub/SNEWS/SNEWS_Coincidence_System/snews_cs/core/../../logs/2022-11-21.log'"
      ]
     },
     "execution_count": 2,
     "metadata": {},
     "output_type": "execute_result"
    }
   ],
   "source": [
    "# the logs of \"today\" will be saved here\n",
    "log_file"
   ]
  },
  {
   "cell_type": "markdown",
   "id": "8dd66b6b",
   "metadata": {},
   "source": [
    "Once the `snews_cs run-coincidence` is executed, the log file is created"
   ]
  },
  {
   "cell_type": "code",
   "execution_count": 3,
   "id": "83742c08",
   "metadata": {
    "scrolled": true
   },
   "outputs": [
    {
     "name": "stdout",
     "output_type": "stream",
     "text": [
      "2022-11-21 13:14:08 on iap-nb-034\r\n",
      "  DEBUG [snews_cs.snews_coinc_v2] Initializing CoincDecider\r\n",
      "\r\n",
      "2022-11-21 13:14:08 on iap-nb-034\r\n",
      "  INFO [snews_cs.snews_hb] \t> Heartbeat Instance is created.\r\n",
      "2022-11-21 13:14:08 on iap-nb-034\r\n",
      "  INFO [snews_cs.snews_hb] \t> Heartbeats are stored in /mnt/c/Users/bj7780/Desktop/Kara/GitHub/SNEWS/SNEWS_Coincidence_System/snews_cs/../beats.\r\n"
     ]
    }
   ],
   "source": [
    "!cat $log_file"
   ]
  },
  {
   "cell_type": "markdown",
   "id": "077c5998",
   "metadata": {},
   "source": [
    "### Test coincidence \n",
    "Send two messages from two detectors with short time interval so it triggers an alert."
   ]
  },
  {
   "cell_type": "code",
   "execution_count": 4,
   "id": "75c40573",
   "metadata": {},
   "outputs": [
    {
     "name": "stdout",
     "output_type": "stream",
     "text": [
      "Message Generated for CoincidenceTier\n",
      "Message Generated for CoincidenceTier\n"
     ]
    }
   ],
   "source": [
    "time1 = \"2023-06-14T12:45:45.100000\" #datetime.strptime(\"2023-06-14T12:45:45.100000\", '%Y-%m-%dT%H:%M:%S.%f')\n",
    "time2 = \"2023-06-14T12:45:49.100000\" #datetime.strptime(\"2023-06-14T12:45:49.100000\", '%Y-%m-%dT%H:%M:%S.%f')\n",
    "\n",
    "msg1 = SNEWSTiersPublisher(detector_name=\"XENONnT\",\n",
    "                           neutrino_time=time1,\n",
    "                           is_test=True)\n",
    "\n",
    "msg2 = SNEWSTiersPublisher(detector_name=\"DS-20K\",\n",
    "                           neutrino_time=time2,\n",
    "                           is_test=True)"
   ]
  },
  {
   "cell_type": "code",
   "execution_count": 5,
   "id": "55621791",
   "metadata": {},
   "outputs": [
    {
     "name": "stdout",
     "output_type": "stream",
     "text": [
      "\u001b[94m----------------------------------------------------------------\u001b[0m\n",
      "\u001b[91mSending message to CoincidenceTier on kafka://kafka.scimma.org/snews.experiments-firedrill\u001b[0m\n",
      "_id                :19_CoincidenceTier_2022-11-21T13:14:22.639583\n",
      "detector_name      :XENONnT\n",
      "machine_time       :2022-11-21T13:14:22.639583\n",
      "neutrino_time      :2023-06-14T12:45:45.100000\n",
      "p_val              :None\n",
      "meta               :\n",
      "\tis_test            :True\n",
      "schema_version     :1.2.0\n",
      "sent_time          :2022-11-21T13:14:22.639583\n",
      "\u001b[94m----------------------------------------------------------------\u001b[0m\n",
      "\u001b[91mSending message to CoincidenceTier on kafka://kafka.scimma.org/snews.experiments-firedrill\u001b[0m\n",
      "_id                :18_CoincidenceTier_2022-11-21T13:14:22.661826\n",
      "detector_name      :DS-20K\n",
      "machine_time       :2022-11-21T13:14:22.661826\n",
      "neutrino_time      :2023-06-14T12:45:49.100000\n",
      "p_val              :None\n",
      "meta               :\n",
      "\tis_test            :True\n",
      "schema_version     :1.2.0\n",
      "sent_time          :2022-11-21T13:14:22.661826\n"
     ]
    }
   ],
   "source": [
    "for msg in [msg1, msg2]:\n",
    "    msg.send_to_snews()"
   ]
  },
  {
   "cell_type": "code",
   "execution_count": 6,
   "id": "ad67ca27",
   "metadata": {
    "scrolled": false
   },
   "outputs": [
    {
     "name": "stdout",
     "output_type": "stream",
     "text": [
      "2022-11-21 13:14:08 on iap-nb-034\r\n",
      "  DEBUG [snews_cs.snews_coinc_v2] Initializing CoincDecider\r\n",
      "\r\n",
      "2022-11-21 13:14:08 on iap-nb-034\r\n",
      "  INFO [snews_cs.snews_hb] \t> Heartbeat Instance is created.\r\n",
      "2022-11-21 13:14:08 on iap-nb-034\r\n",
      "  INFO [snews_cs.snews_hb] \t> Heartbeats are stored in /mnt/c/Users/bj7780/Desktop/Kara/GitHub/SNEWS/SNEWS_Coincidence_System/snews_cs/../beats.\r\n",
      "2022-11-21 13:14:28 on iap-nb-034\r\n",
      "  DEBUG [snews_cs.cs_remote_commands] \t> Handling message..\r\n",
      "\r\n",
      "2022-11-21 13:14:28 on iap-nb-034\r\n",
      "  DEBUG [snews_cs.cs_remote_commands] **************************************** LOGS FOR THE -TEST- MESSAGE\r\n",
      "{\r\n",
      "    \"_id\": \"19_CoincidenceTier_2022-11-21T13:14:22.639583\",\r\n",
      "    \"detector_name\": \"XENONnT\",\r\n",
      "    \"machine_time\": \"2022-11-21T13:14:22.639583\",\r\n",
      "    \"meta\": {\r\n",
      "        \"is_test\": true\r\n",
      "    },\r\n",
      "    \"neutrino_time\": \"2023-06-14T12:45:45.100000\",\r\n",
      "    \"p_val\": null,\r\n",
      "    \"schema_version\": \"1.2.0\",\r\n",
      "    \"sent_time\": \"2022-11-21T13:14:22.639583\"\r\n",
      "}\r\n",
      "2022-11-21 13:14:28 on iap-nb-034\r\n",
      "  DEBUG [snews_cs.cs_remote_commands] \t> Checking _id ..\r\n",
      "2022-11-21 13:14:28 on iap-nb-034\r\n",
      "  INFO [snews_cs.cs_remote_commands] \t> Message has an '_id' field\r\n",
      "2022-11-21 13:14:28 on iap-nb-034\r\n",
      "  INFO [snews_cs.cs_remote_commands] \t> Checking detector name.\r\n",
      "2022-11-21 13:14:28 on iap-nb-034\r\n",
      "  DEBUG [snews_cs.cs_remote_commands] \t> Checking detector name..\r\n",
      "2022-11-21 13:14:28 on iap-nb-034\r\n",
      "  INFO [snews_cs.cs_remote_commands] \t> Detector: XENONnT valid\r\n",
      "2022-11-21 13:14:28 on iap-nb-034\r\n",
      "  DEBUG [snews_cs.cs_remote_commands] \t> Checking message type..\r\n",
      "2022-11-21 13:14:28 on iap-nb-034\r\n",
      "  DEBUG [snews_cs.cs_remote_commands] \t> Tier message Passed. Checking times.\r\n",
      "2022-11-21 13:14:28 on iap-nb-034\r\n",
      "  INFO [snews_cs.cs_remote_commands] \t> Message type : 19_CoincidenceTier_2022-11-21T13:14:22.639583 valid.\r\n",
      "2022-11-21 13:14:28 on iap-nb-034\r\n",
      "  DEBUG [snews_cs.cs_remote_commands] \t> Checking Times..\r\n",
      "2022-11-21 13:14:28 on iap-nb-034\r\n",
      "  INFO [snews_cs.cs_remote_commands] \t> neutrino_time exists and is string.\r\n",
      "2022-11-21 13:14:28 on iap-nb-034\r\n",
      "  INFO [snews_cs.cs_remote_commands] \t> neutrino_time is ISO formattable.\r\n",
      "2022-11-21 13:14:28 on iap-nb-034\r\n",
      "  INFO [snews_cs.cs_remote_commands] \t> neutrino_time is checked for is_test=True, not checking time interval.\r\n",
      "2022-11-21 13:14:28 on iap-nb-034\r\n",
      "  DEBUG [snews_cs.cs_remote_commands] \t> Checking p_val..\r\n",
      "2022-11-21 13:14:28 on iap-nb-034\r\n",
      "  INFO [snews_cs.cs_remote_commands] \t> p_val is defaulted to None.\r\n",
      "2022-11-21 13:14:28 on iap-nb-034\r\n",
      "  INFO [snews_cs.cs_remote_commands] \t> All checks are passed. Message is in SnewsFormat.\r\n",
      "2022-11-21 13:14:28 on iap-nb-034\r\n",
      "  DEBUG [snews_cs.cs_remote_commands] **************************************** END OF lOGS\r\n",
      "\r\n",
      "2022-11-21 13:14:28 on iap-nb-034\r\n",
      "  INFO [snews_cs.cs_remote_commands] \t> Message is in SnewsFormat. '_id':19_CoincidenceTier_2022-11-21T13:14:22.639583 \r\n",
      "2022-11-21 13:14:28 on iap-nb-034\r\n",
      "  INFO [snews_cs.cs_remote_commands] \t> Received Message is  a test message!\r\n",
      "2022-11-21 13:14:28 on iap-nb-034\r\n",
      "  INFO [snews_cs.cs_remote_commands] \t> CoincidenceTier message is received, coincidence check is GO!\r\n",
      "\r\n",
      "2022-11-21 13:14:31 on iap-nb-034\r\n",
      "  DEBUG [snews_cs.cs_remote_commands] \t> Handling message..\r\n",
      "\r\n",
      "2022-11-21 13:14:31 on iap-nb-034\r\n",
      "  DEBUG [snews_cs.cs_remote_commands] **************************************** LOGS FOR THE -TEST- MESSAGE\r\n",
      "{\r\n",
      "    \"_id\": \"18_CoincidenceTier_2022-11-21T13:14:22.661826\",\r\n",
      "    \"detector_name\": \"DS-20K\",\r\n",
      "    \"machine_time\": \"2022-11-21T13:14:22.661826\",\r\n",
      "    \"meta\": {\r\n",
      "        \"is_test\": true\r\n",
      "    },\r\n",
      "    \"neutrino_time\": \"2023-06-14T12:45:49.100000\",\r\n",
      "    \"p_val\": null,\r\n",
      "    \"schema_version\": \"1.2.0\",\r\n",
      "    \"sent_time\": \"2022-11-21T13:14:22.661826\"\r\n",
      "}\r\n",
      "2022-11-21 13:14:31 on iap-nb-034\r\n",
      "  DEBUG [snews_cs.cs_remote_commands] \t> Checking _id ..\r\n",
      "2022-11-21 13:14:31 on iap-nb-034\r\n",
      "  INFO [snews_cs.cs_remote_commands] \t> Message has an '_id' field\r\n",
      "2022-11-21 13:14:31 on iap-nb-034\r\n",
      "  INFO [snews_cs.cs_remote_commands] \t> Checking detector name.\r\n",
      "2022-11-21 13:14:31 on iap-nb-034\r\n",
      "  DEBUG [snews_cs.cs_remote_commands] \t> Checking detector name..\r\n",
      "2022-11-21 13:14:31 on iap-nb-034\r\n",
      "  INFO [snews_cs.cs_remote_commands] \t> Detector: DS-20K valid\r\n",
      "2022-11-21 13:14:31 on iap-nb-034\r\n",
      "  DEBUG [snews_cs.cs_remote_commands] \t> Checking message type..\r\n",
      "2022-11-21 13:14:31 on iap-nb-034\r\n",
      "  DEBUG [snews_cs.cs_remote_commands] \t> Tier message Passed. Checking times.\r\n",
      "2022-11-21 13:14:31 on iap-nb-034\r\n",
      "  INFO [snews_cs.cs_remote_commands] \t> Message type : 18_CoincidenceTier_2022-11-21T13:14:22.661826 valid.\r\n",
      "2022-11-21 13:14:31 on iap-nb-034\r\n",
      "  DEBUG [snews_cs.cs_remote_commands] \t> Checking Times..\r\n",
      "2022-11-21 13:14:31 on iap-nb-034\r\n",
      "  INFO [snews_cs.cs_remote_commands] \t> neutrino_time exists and is string.\r\n",
      "2022-11-21 13:14:31 on iap-nb-034\r\n",
      "  INFO [snews_cs.cs_remote_commands] \t> neutrino_time is ISO formattable.\r\n",
      "2022-11-21 13:14:31 on iap-nb-034\r\n",
      "  INFO [snews_cs.cs_remote_commands] \t> neutrino_time is checked for is_test=True, not checking time interval.\r\n",
      "2022-11-21 13:14:31 on iap-nb-034\r\n",
      "  DEBUG [snews_cs.cs_remote_commands] \t> Checking p_val..\r\n",
      "2022-11-21 13:14:31 on iap-nb-034\r\n",
      "  INFO [snews_cs.cs_remote_commands] \t> p_val is defaulted to None.\r\n",
      "2022-11-21 13:14:31 on iap-nb-034\r\n",
      "  INFO [snews_cs.cs_remote_commands] \t> All checks are passed. Message is in SnewsFormat.\r\n",
      "2022-11-21 13:14:31 on iap-nb-034\r\n",
      "  DEBUG [snews_cs.cs_remote_commands] **************************************** END OF lOGS\r\n",
      "\r\n",
      "2022-11-21 13:14:31 on iap-nb-034\r\n",
      "  INFO [snews_cs.cs_remote_commands] \t> Message is in SnewsFormat. '_id':18_CoincidenceTier_2022-11-21T13:14:22.661826 \r\n",
      "2022-11-21 13:14:31 on iap-nb-034\r\n",
      "  INFO [snews_cs.cs_remote_commands] \t> Received Message is  a test message!\r\n",
      "2022-11-21 13:14:31 on iap-nb-034\r\n",
      "  INFO [snews_cs.cs_remote_commands] \t> CoincidenceTier message is received, coincidence check is GO!\r\n",
      "\r\n",
      "2022-11-21 13:14:32 on iap-nb-034\r\n",
      "  INFO [snews_cs.cs_email] \t\t> SNEWS Alert mail was sent at 2022-11-21T13:14:32.004817 to snews2-test-ahabig@d.umn.edu\r\n"
     ]
    }
   ],
   "source": [
    "!cat $log_file"
   ]
  },
  {
   "cell_type": "markdown",
   "id": "962b2c4a",
   "metadata": {},
   "source": [
    "### Try retraction"
   ]
  },
  {
   "cell_type": "code",
   "execution_count": 7,
   "id": "d61d38f0",
   "metadata": {},
   "outputs": [
    {
     "name": "stdout",
     "output_type": "stream",
     "text": [
      "Message Generated for CoincidenceTier\n",
      "Message Generated for Retraction\n",
      "\u001b[94m----------------------------------------------------------------\u001b[0m\n",
      "\u001b[91mSending message to CoincidenceTier on kafka://kafka.scimma.org/snews.experiments-firedrill\u001b[0m\n",
      "_id                :18_CoincidenceTier_2022-11-21T13:14:43.101419\n",
      "detector_name      :DS-20K\n",
      "machine_time       :2022-11-21T13:14:43.101419\n",
      "neutrino_time      :2023-06-14T12:45:49.100000\n",
      "p_val              :None\n",
      "meta               :\n",
      "\tis_test            :True\n",
      "schema_version     :1.2.0\n",
      "sent_time          :2022-11-21T13:14:43.101419\n",
      "is_test            :True\n",
      "\u001b[94m----------------------------------------------------------------\u001b[0m\n",
      "\u001b[91mSending message to Retraction on kafka://kafka.scimma.org/snews.experiments-firedrill\u001b[0m\n",
      "\u001b[35mIT'S OKAY, WE ALL MAKE MISTAKES\u001b[0m\n",
      "_id                :18_Retraction_2022-11-21T13:14:43.101419\n",
      "detector_name      :DS-20K\n",
      "machine_time       :2022-11-21T13:14:43.101419\n",
      "which_tier         :None\n",
      "N_retract_latest   :1\n",
      "retraction_reason  :None\n",
      "meta               :\n",
      "\tis_test            :True\n",
      "schema_version     :1.2.0\n",
      "sent_time          :2022-11-21T13:14:43.101419\n"
     ]
    }
   ],
   "source": [
    "msg3 = SNEWSTiersPublisher(detector_name=\"DS-20K\",\n",
    "                           neutrino_time=time2,\n",
    "                           n_retract_latest=1,\n",
    "                           is_test=True)\n",
    "msg3.messages[0]['is_test'] = True\n",
    "msg3.send_to_snews()"
   ]
  },
  {
   "cell_type": "code",
   "execution_count": 8,
   "id": "d2ad7bfe",
   "metadata": {},
   "outputs": [
    {
     "name": "stdout",
     "output_type": "stream",
     "text": [
      "2022-11-21 13:14:08 on iap-nb-034\r\n",
      "  DEBUG [snews_cs.snews_coinc_v2] Initializing CoincDecider\r\n",
      "\r\n",
      "2022-11-21 13:14:08 on iap-nb-034\r\n",
      "  INFO [snews_cs.snews_hb] \t> Heartbeat Instance is created.\r\n",
      "2022-11-21 13:14:08 on iap-nb-034\r\n",
      "  INFO [snews_cs.snews_hb] \t> Heartbeats are stored in /mnt/c/Users/bj7780/Desktop/Kara/GitHub/SNEWS/SNEWS_Coincidence_System/snews_cs/../beats.\r\n",
      "2022-11-21 13:14:28 on iap-nb-034\r\n",
      "  DEBUG [snews_cs.cs_remote_commands] \t> Handling message..\r\n",
      "\r\n",
      "2022-11-21 13:14:28 on iap-nb-034\r\n",
      "  DEBUG [snews_cs.cs_remote_commands] **************************************** LOGS FOR THE -TEST- MESSAGE\r\n",
      "{\r\n",
      "    \"_id\": \"19_CoincidenceTier_2022-11-21T13:14:22.639583\",\r\n",
      "    \"detector_name\": \"XENONnT\",\r\n",
      "    \"machine_time\": \"2022-11-21T13:14:22.639583\",\r\n",
      "    \"meta\": {\r\n",
      "        \"is_test\": true\r\n",
      "    },\r\n",
      "    \"neutrino_time\": \"2023-06-14T12:45:45.100000\",\r\n",
      "    \"p_val\": null,\r\n",
      "    \"schema_version\": \"1.2.0\",\r\n",
      "    \"sent_time\": \"2022-11-21T13:14:22.639583\"\r\n",
      "}\r\n",
      "2022-11-21 13:14:28 on iap-nb-034\r\n",
      "  DEBUG [snews_cs.cs_remote_commands] \t> Checking _id ..\r\n",
      "2022-11-21 13:14:28 on iap-nb-034\r\n",
      "  INFO [snews_cs.cs_remote_commands] \t> Message has an '_id' field\r\n",
      "2022-11-21 13:14:28 on iap-nb-034\r\n",
      "  INFO [snews_cs.cs_remote_commands] \t> Checking detector name.\r\n",
      "2022-11-21 13:14:28 on iap-nb-034\r\n",
      "  DEBUG [snews_cs.cs_remote_commands] \t> Checking detector name..\r\n",
      "2022-11-21 13:14:28 on iap-nb-034\r\n",
      "  INFO [snews_cs.cs_remote_commands] \t> Detector: XENONnT valid\r\n",
      "2022-11-21 13:14:28 on iap-nb-034\r\n",
      "  DEBUG [snews_cs.cs_remote_commands] \t> Checking message type..\r\n",
      "2022-11-21 13:14:28 on iap-nb-034\r\n",
      "  DEBUG [snews_cs.cs_remote_commands] \t> Tier message Passed. Checking times.\r\n",
      "2022-11-21 13:14:28 on iap-nb-034\r\n",
      "  INFO [snews_cs.cs_remote_commands] \t> Message type : 19_CoincidenceTier_2022-11-21T13:14:22.639583 valid.\r\n",
      "2022-11-21 13:14:28 on iap-nb-034\r\n",
      "  DEBUG [snews_cs.cs_remote_commands] \t> Checking Times..\r\n",
      "2022-11-21 13:14:28 on iap-nb-034\r\n",
      "  INFO [snews_cs.cs_remote_commands] \t> neutrino_time exists and is string.\r\n",
      "2022-11-21 13:14:28 on iap-nb-034\r\n",
      "  INFO [snews_cs.cs_remote_commands] \t> neutrino_time is ISO formattable.\r\n",
      "2022-11-21 13:14:28 on iap-nb-034\r\n",
      "  INFO [snews_cs.cs_remote_commands] \t> neutrino_time is checked for is_test=True, not checking time interval.\r\n",
      "2022-11-21 13:14:28 on iap-nb-034\r\n",
      "  DEBUG [snews_cs.cs_remote_commands] \t> Checking p_val..\r\n",
      "2022-11-21 13:14:28 on iap-nb-034\r\n",
      "  INFO [snews_cs.cs_remote_commands] \t> p_val is defaulted to None.\r\n",
      "2022-11-21 13:14:28 on iap-nb-034\r\n",
      "  INFO [snews_cs.cs_remote_commands] \t> All checks are passed. Message is in SnewsFormat.\r\n",
      "2022-11-21 13:14:28 on iap-nb-034\r\n",
      "  DEBUG [snews_cs.cs_remote_commands] **************************************** END OF lOGS\r\n",
      "\r\n",
      "2022-11-21 13:14:28 on iap-nb-034\r\n",
      "  INFO [snews_cs.cs_remote_commands] \t> Message is in SnewsFormat. '_id':19_CoincidenceTier_2022-11-21T13:14:22.639583 \r\n",
      "2022-11-21 13:14:28 on iap-nb-034\r\n",
      "  INFO [snews_cs.cs_remote_commands] \t> Received Message is  a test message!\r\n",
      "2022-11-21 13:14:28 on iap-nb-034\r\n",
      "  INFO [snews_cs.cs_remote_commands] \t> CoincidenceTier message is received, coincidence check is GO!\r\n",
      "\r\n",
      "2022-11-21 13:14:31 on iap-nb-034\r\n",
      "  DEBUG [snews_cs.cs_remote_commands] \t> Handling message..\r\n",
      "\r\n",
      "2022-11-21 13:14:31 on iap-nb-034\r\n",
      "  DEBUG [snews_cs.cs_remote_commands] **************************************** LOGS FOR THE -TEST- MESSAGE\r\n",
      "{\r\n",
      "    \"_id\": \"18_CoincidenceTier_2022-11-21T13:14:22.661826\",\r\n",
      "    \"detector_name\": \"DS-20K\",\r\n",
      "    \"machine_time\": \"2022-11-21T13:14:22.661826\",\r\n",
      "    \"meta\": {\r\n",
      "        \"is_test\": true\r\n",
      "    },\r\n",
      "    \"neutrino_time\": \"2023-06-14T12:45:49.100000\",\r\n",
      "    \"p_val\": null,\r\n",
      "    \"schema_version\": \"1.2.0\",\r\n",
      "    \"sent_time\": \"2022-11-21T13:14:22.661826\"\r\n",
      "}\r\n",
      "2022-11-21 13:14:31 on iap-nb-034\r\n",
      "  DEBUG [snews_cs.cs_remote_commands] \t> Checking _id ..\r\n",
      "2022-11-21 13:14:31 on iap-nb-034\r\n",
      "  INFO [snews_cs.cs_remote_commands] \t> Message has an '_id' field\r\n",
      "2022-11-21 13:14:31 on iap-nb-034\r\n",
      "  INFO [snews_cs.cs_remote_commands] \t> Checking detector name.\r\n",
      "2022-11-21 13:14:31 on iap-nb-034\r\n",
      "  DEBUG [snews_cs.cs_remote_commands] \t> Checking detector name..\r\n",
      "2022-11-21 13:14:31 on iap-nb-034\r\n",
      "  INFO [snews_cs.cs_remote_commands] \t> Detector: DS-20K valid\r\n",
      "2022-11-21 13:14:31 on iap-nb-034\r\n",
      "  DEBUG [snews_cs.cs_remote_commands] \t> Checking message type..\r\n",
      "2022-11-21 13:14:31 on iap-nb-034\r\n",
      "  DEBUG [snews_cs.cs_remote_commands] \t> Tier message Passed. Checking times.\r\n",
      "2022-11-21 13:14:31 on iap-nb-034\r\n",
      "  INFO [snews_cs.cs_remote_commands] \t> Message type : 18_CoincidenceTier_2022-11-21T13:14:22.661826 valid.\r\n",
      "2022-11-21 13:14:31 on iap-nb-034\r\n",
      "  DEBUG [snews_cs.cs_remote_commands] \t> Checking Times..\r\n",
      "2022-11-21 13:14:31 on iap-nb-034\r\n",
      "  INFO [snews_cs.cs_remote_commands] \t> neutrino_time exists and is string.\r\n",
      "2022-11-21 13:14:31 on iap-nb-034\r\n",
      "  INFO [snews_cs.cs_remote_commands] \t> neutrino_time is ISO formattable.\r\n",
      "2022-11-21 13:14:31 on iap-nb-034\r\n",
      "  INFO [snews_cs.cs_remote_commands] \t> neutrino_time is checked for is_test=True, not checking time interval.\r\n",
      "2022-11-21 13:14:31 on iap-nb-034\r\n",
      "  DEBUG [snews_cs.cs_remote_commands] \t> Checking p_val..\r\n",
      "2022-11-21 13:14:31 on iap-nb-034\r\n",
      "  INFO [snews_cs.cs_remote_commands] \t> p_val is defaulted to None.\r\n",
      "2022-11-21 13:14:31 on iap-nb-034\r\n",
      "  INFO [snews_cs.cs_remote_commands] \t> All checks are passed. Message is in SnewsFormat.\r\n",
      "2022-11-21 13:14:31 on iap-nb-034\r\n",
      "  DEBUG [snews_cs.cs_remote_commands] **************************************** END OF lOGS\r\n",
      "\r\n",
      "2022-11-21 13:14:31 on iap-nb-034\r\n",
      "  INFO [snews_cs.cs_remote_commands] \t> Message is in SnewsFormat. '_id':18_CoincidenceTier_2022-11-21T13:14:22.661826 \r\n",
      "2022-11-21 13:14:31 on iap-nb-034\r\n",
      "  INFO [snews_cs.cs_remote_commands] \t> Received Message is  a test message!\r\n",
      "2022-11-21 13:14:31 on iap-nb-034\r\n",
      "  INFO [snews_cs.cs_remote_commands] \t> CoincidenceTier message is received, coincidence check is GO!\r\n",
      "\r\n",
      "2022-11-21 13:14:32 on iap-nb-034\r\n",
      "  INFO [snews_cs.cs_email] \t\t> SNEWS Alert mail was sent at 2022-11-21T13:14:32.004817 to snews2-test-ahabig@d.umn.edu\r\n",
      "2022-11-21 13:14:47 on iap-nb-034\r\n",
      "  DEBUG [snews_cs.cs_remote_commands] \t> Handling message..\r\n",
      "\r\n",
      "2022-11-21 13:14:47 on iap-nb-034\r\n",
      "  DEBUG [snews_cs.cs_remote_commands] **************************************** LOGS FOR THE -TEST- MESSAGE\r\n",
      "{\r\n",
      "    \"_id\": \"18_CoincidenceTier_2022-11-21T13:14:43.101419\",\r\n",
      "    \"detector_name\": \"DS-20K\",\r\n",
      "    \"is_test\": true,\r\n",
      "    \"machine_time\": \"2022-11-21T13:14:43.101419\",\r\n",
      "    \"meta\": {\r\n",
      "        \"is_test\": true\r\n",
      "    },\r\n",
      "    \"neutrino_time\": \"2023-06-14T12:45:49.100000\",\r\n",
      "    \"p_val\": null,\r\n",
      "    \"schema_version\": \"1.2.0\",\r\n",
      "    \"sent_time\": \"2022-11-21T13:14:43.101419\"\r\n",
      "}\r\n",
      "2022-11-21 13:14:47 on iap-nb-034\r\n",
      "  DEBUG [snews_cs.cs_remote_commands] \t> Checking _id ..\r\n",
      "2022-11-21 13:14:47 on iap-nb-034\r\n",
      "  INFO [snews_cs.cs_remote_commands] \t> Message has an '_id' field\r\n",
      "2022-11-21 13:14:47 on iap-nb-034\r\n",
      "  INFO [snews_cs.cs_remote_commands] \t> Checking detector name.\r\n",
      "2022-11-21 13:14:47 on iap-nb-034\r\n",
      "  DEBUG [snews_cs.cs_remote_commands] \t> Checking detector name..\r\n",
      "2022-11-21 13:14:47 on iap-nb-034\r\n",
      "  INFO [snews_cs.cs_remote_commands] \t> Detector: DS-20K valid\r\n",
      "2022-11-21 13:14:47 on iap-nb-034\r\n",
      "  DEBUG [snews_cs.cs_remote_commands] \t> Checking message type..\r\n",
      "2022-11-21 13:14:47 on iap-nb-034\r\n",
      "  DEBUG [snews_cs.cs_remote_commands] \t> Tier message Passed. Checking times.\r\n",
      "2022-11-21 13:14:47 on iap-nb-034\r\n",
      "  INFO [snews_cs.cs_remote_commands] \t> Message type : 18_CoincidenceTier_2022-11-21T13:14:43.101419 valid.\r\n",
      "2022-11-21 13:14:47 on iap-nb-034\r\n",
      "  DEBUG [snews_cs.cs_remote_commands] \t> Checking Times..\r\n",
      "2022-11-21 13:14:47 on iap-nb-034\r\n",
      "  INFO [snews_cs.cs_remote_commands] \t> neutrino_time exists and is string.\r\n",
      "2022-11-21 13:14:47 on iap-nb-034\r\n",
      "  INFO [snews_cs.cs_remote_commands] \t> neutrino_time is ISO formattable.\r\n",
      "2022-11-21 13:14:47 on iap-nb-034\r\n",
      "  INFO [snews_cs.cs_remote_commands] \t> neutrino_time is checked for is_test=True, not checking time interval.\r\n",
      "2022-11-21 13:14:47 on iap-nb-034\r\n",
      "  DEBUG [snews_cs.cs_remote_commands] \t> Checking p_val..\r\n",
      "2022-11-21 13:14:47 on iap-nb-034\r\n",
      "  INFO [snews_cs.cs_remote_commands] \t> p_val is defaulted to None.\r\n",
      "2022-11-21 13:14:47 on iap-nb-034\r\n",
      "  INFO [snews_cs.cs_remote_commands] \t> All checks are passed. Message is in SnewsFormat.\r\n",
      "2022-11-21 13:14:47 on iap-nb-034\r\n",
      "  DEBUG [snews_cs.cs_remote_commands] **************************************** END OF lOGS\r\n",
      "\r\n",
      "2022-11-21 13:14:47 on iap-nb-034\r\n",
      "  INFO [snews_cs.cs_remote_commands] \t> Message is in SnewsFormat. '_id':18_CoincidenceTier_2022-11-21T13:14:43.101419 \r\n",
      "2022-11-21 13:14:47 on iap-nb-034\r\n",
      "  INFO [snews_cs.cs_remote_commands] \t> Received Message is  a test message!\r\n",
      "2022-11-21 13:14:47 on iap-nb-034\r\n",
      "  INFO [snews_cs.cs_remote_commands] \t> CoincidenceTier message is received, coincidence check is GO!\r\n",
      "\r\n"
     ]
    }
   ],
   "source": [
    "!cat $log_file"
   ]
  },
  {
   "cell_type": "markdown",
   "id": "630794a0",
   "metadata": {},
   "source": [
    "Two issues I've encountered with the retraction so far:\n",
    " - It starts by converting the neutrino times to datetime obj, and silently crashes if there are no neutrino times. We said that by default it should look at the last message of a given detector. so it should work without a neutrino time.\n",
    " - two:\n",
    " ```\n",
    " UPDATING MESSAGE FROM: DS-20K                                                                                                                                                                                   [0]                                                                                                                                                                                                         drop() got an unexpected keyword argument 'column'  \n",
    " ```"
   ]
  },
  {
   "cell_type": "code",
   "execution_count": null,
   "id": "89def46c",
   "metadata": {},
   "outputs": [],
   "source": []
  },
  {
   "cell_type": "code",
   "execution_count": null,
   "id": "1355206f",
   "metadata": {},
   "outputs": [],
   "source": []
  }
 ],
 "metadata": {
  "kernelspec": {
   "display_name": "snews",
   "language": "python",
   "name": "snews"
  },
  "language_info": {
   "codemirror_mode": {
    "name": "ipython",
    "version": 3
   },
   "file_extension": ".py",
   "mimetype": "text/x-python",
   "name": "python",
   "nbconvert_exporter": "python",
   "pygments_lexer": "ipython3",
   "version": "3.9.7"
  }
 },
 "nbformat": 4,
 "nbformat_minor": 5
}
